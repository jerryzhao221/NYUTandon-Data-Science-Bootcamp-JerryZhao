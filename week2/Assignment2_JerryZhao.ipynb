{
 "cells": [
  {
   "cell_type": "markdown",
   "metadata": {
    "id": "di--Tp2j2HM6"
   },
   "source": [
    "# Assignment2 Jerry Zhao"
   ]
  },
  {
   "cell_type": "markdown",
   "metadata": {
    "id": "56u58EaK2sGg"
   },
   "source": [
    "## HW Questions (Numpy):\n",
    "### 1. Define two custom numpy arrays, say A and B. Generate two new numpy arrays by stacking A and B vertically and horizontally."
   ]
  },
  {
   "cell_type": "code",
   "execution_count": 1,
   "metadata": {
    "colab": {
     "base_uri": "https://localhost:8080/"
    },
    "id": "_2XypWun2-kP",
    "outputId": "4f3222db-c4f4-4803-b478-d42431b2c48a"
   },
   "outputs": [
    {
     "name": "stdout",
     "output_type": "stream",
     "text": [
      "[6 7 8]\n",
      "[7 8 9]\n",
      "[[6 7 8]\n",
      " [7 8 9]]\n",
      "[6 7 8 7 8 9]\n"
     ]
    }
   ],
   "source": [
    "import numpy as np\n",
    "\n",
    "A = np.array([6,7,8])\n",
    "B = np.array([7,8,9])\n",
    "\n",
    "\n",
    "# Stack vertically\n",
    "vertical_stack = np.vstack((A, B))\n",
    "\n",
    "# Stack horizontally\n",
    "horizontal_stack = np.hstack((A, B))\n",
    "\n",
    "print(A)\n",
    "print(B)\n",
    "print(vertical_stack)\n",
    "print(horizontal_stack)"
   ]
  },
  {
   "cell_type": "markdown",
   "metadata": {
    "id": "s0f2eSSd5f_o"
   },
   "source": [
    "### 2.Find common elements between A and B. [Hint: Intersection of two sets]"
   ]
  },
  {
   "cell_type": "code",
   "execution_count": 2,
   "metadata": {
    "colab": {
     "base_uri": "https://localhost:8080/"
    },
    "id": "5tdrRPGb65Il",
    "outputId": "d274b3f6-e844-44fb-85aa-28675bbd7793"
   },
   "outputs": [
    {
     "name": "stdout",
     "output_type": "stream",
     "text": [
      "[7 8]\n"
     ]
    }
   ],
   "source": [
    "common_elements = np.intersect1d(A,B)\n",
    "print(common_elements)"
   ]
  },
  {
   "cell_type": "markdown",
   "metadata": {
    "id": "0ExGnNWu68sN"
   },
   "source": [
    "### 3.Extract all numbers from A which are within a specific range. eg between 5 and 10. [Hint: np.where() might be useful or boolean masks]"
   ]
  },
  {
   "cell_type": "code",
   "execution_count": 3,
   "metadata": {
    "colab": {
     "base_uri": "https://localhost:8080/"
    },
    "id": "bqwTAKSN-pkn",
    "outputId": "01a3cea2-a2f6-4709-824f-fcf936574a93"
   },
   "outputs": [
    {
     "name": "stdout",
     "output_type": "stream",
     "text": [
      "Numbers between 7 and 10: [7 8]\n"
     ]
    }
   ],
   "source": [
    "filtered = A[(A >= 7) & (A <= 10)]\n",
    "print(\"Numbers between 7 and 10:\", filtered)"
   ]
  },
  {
   "cell_type": "markdown",
   "metadata": {
    "id": "6jTQS5El-2ea"
   },
   "source": [
    "### 4. Filter the rows of iris_2d that has petallength (3rd column) > 1.5 and sepallength (1st column) < 5.0\n",
    "\n",
    "```\n",
    "url = 'https://archive.ics.uci.edu/ml/machine-learning-databases/iris/iris.data'\n",
    "iris_2d = np.genfromtxt(url, delimiter=',', dtype='float', usecols=[0,1,2,3])\n",
    "```\n",
    "\n"
   ]
  },
  {
   "cell_type": "code",
   "execution_count": 4,
   "metadata": {
    "colab": {
     "base_uri": "https://localhost:8080/"
    },
    "id": "bF1_uZm8A5Dw",
    "outputId": "b50a6df9-a328-48d7-8e26-6786862ed332"
   },
   "outputs": [
    {
     "name": "stdout",
     "output_type": "stream",
     "text": [
      "Filtered rows:\n",
      " [[4.8 3.4 1.6 0.2]\n",
      " [4.8 3.4 1.9 0.2]\n",
      " [4.7 3.2 1.6 0.2]\n",
      " [4.8 3.1 1.6 0.2]\n",
      " [4.9 2.4 3.3 1. ]\n",
      " [4.9 2.5 4.5 1.7]]\n"
     ]
    }
   ],
   "source": [
    "url = 'https://archive.ics.uci.edu/ml/machine-learning-databases/iris/iris.data'\n",
    "iris_2d = np.genfromtxt(url, delimiter=',', dtype='float', usecols=[0,1,2,3])\n",
    "filtered_rows = iris_2d[(iris_2d[:, 2] > 1.5) & (iris_2d[:, 0] < 5.0)]\n",
    "\n",
    "print(\"Filtered rows:\\n\", filtered_rows)"
   ]
  },
  {
   "cell_type": "markdown",
   "metadata": {
    "id": "7yuZZO8iBEB7"
   },
   "source": [
    "## HW Questions (Pandas):"
   ]
  },
  {
   "cell_type": "markdown",
   "metadata": {
    "id": "6RdPiRIrCfH-"
   },
   "source": [
    "### 1. From df filter the 'Manufacturer', 'Model' and 'Type' for every 20th row starting from 1st (row 0).\n",
    "\n",
    "\n",
    "```\n",
    "df = pd.read_csv('https://raw.githubusercontent.com/selva86/datasets/master/Cars93_miss.csv')\n",
    "```\n",
    "\n"
   ]
  },
  {
   "cell_type": "code",
   "execution_count": 5,
   "metadata": {
    "colab": {
     "base_uri": "https://localhost:8080/"
    },
    "id": "EC5PwnUACoKd",
    "outputId": "f3970c7b-637f-4af1-cf5a-0ad82f5d028c"
   },
   "outputs": [
    {
     "name": "stdout",
     "output_type": "stream",
     "text": [
      "   Manufacturer    Model     Type\n",
      "0         Acura  Integra    Small\n",
      "20     Chrysler  LeBaron  Compact\n",
      "40        Honda  Prelude   Sporty\n",
      "60      Mercury   Cougar  Midsize\n",
      "80       Subaru   Loyale    Small\n"
     ]
    }
   ],
   "source": [
    "import pandas as pd\n",
    "df = pd.read_csv('https://raw.githubusercontent.com/selva86/datasets/master/Cars93_miss.csv')\n",
    "outcome = df.iloc[::20, :][['Manufacturer', 'Model', 'Type']]\n",
    "print(outcome)"
   ]
  },
  {
   "cell_type": "markdown",
   "metadata": {
    "id": "wxDFALtjC7lf"
   },
   "source": [
    "### 2. Replace missing values in Min.Price and Max.Price columns with their respective mean.\n",
    "```\n",
    "df = pd.read_csv('https://raw.githubusercontent.com/selva86/datasets/master/Cars93_miss.csv')\n",
    "```\n",
    "\n",
    "\n",
    "\n",
    "\n"
   ]
  },
  {
   "cell_type": "code",
   "execution_count": 6,
   "metadata": {
    "colab": {
     "base_uri": "https://localhost:8080/"
    },
    "id": "ft5L8xQ7EAuY",
    "outputId": "72fdeb68-7684-4578-8246-120eb157893a"
   },
   "outputs": [
    {
     "name": "stdout",
     "output_type": "stream",
     "text": [
      "   Min.Price  Max.Price\n",
      "0  12.900000  18.800000\n",
      "1  29.200000  38.700000\n",
      "2  25.900000  32.300000\n",
      "3  17.118605  44.600000\n",
      "4  17.118605  21.459091\n"
     ]
    }
   ],
   "source": [
    "df = pd.read_csv('https://raw.githubusercontent.com/selva86/datasets/master/Cars93_miss.csv')\n",
    "\n",
    "df['Min.Price'].fillna(df['Min.Price'].mean(), inplace=True)\n",
    "df['Max.Price'].fillna(df['Max.Price'].mean(), inplace=True)\n",
    "\n",
    "print(df[['Min.Price', 'Max.Price']].head())"
   ]
  },
  {
   "cell_type": "markdown",
   "metadata": {
    "id": "KEKssXr8EhDY"
   },
   "source": [
    "### 3. How to get the rows of a dataframe with row sum > 100?\n",
    "```\n",
    "df = pd.DataFrame(np.random.randint(10, 40, 60).reshape(-1, 4))\n",
    "```"
   ]
  },
  {
   "cell_type": "code",
   "execution_count": 7,
   "metadata": {
    "colab": {
     "base_uri": "https://localhost:8080/"
    },
    "id": "oNbGUnbmFqRj",
    "outputId": "9b507977-4710-4177-c512-dc276ac1b36d"
   },
   "outputs": [
    {
     "name": "stdout",
     "output_type": "stream",
     "text": [
      "Original DataFrame:\n",
      "      0   1   2   3\n",
      "0   15  23  12  33\n",
      "1   18  30  32  38\n",
      "2   20  21  18  37\n",
      "3   19  18  36  39\n",
      "4   28  10  15  12\n",
      "5   11  19  39  10\n",
      "6   26  22  26  15\n",
      "7   37  16  13  19\n",
      "8   10  11  15  29\n",
      "9   32  36  18  13\n",
      "10  33  27  32  27\n",
      "11  23  30  12  14\n",
      "12  17  24  13  22\n",
      "13  15  25  21  12\n",
      "14  24  20  10  14\n",
      "\n",
      "Rows with row sum > 100:\n",
      "      0   1   2   3\n",
      "1   18  30  32  38\n",
      "3   19  18  36  39\n",
      "10  33  27  32  27\n"
     ]
    }
   ],
   "source": [
    "df = pd.DataFrame(np.random.randint(10, 40, 60).reshape(-1, 4))\n",
    "\n",
    "result = df[df.sum(axis=1) > 100]\n",
    "\n",
    "print(\"Original DataFrame:\\n\", df)\n",
    "print(\"\\nRows with row sum > 100:\\n\", result)"
   ]
  }
 ],
 "metadata": {
  "colab": {
   "provenance": []
  },
  "kernelspec": {
   "display_name": "Python 3 (ipykernel)",
   "language": "python",
   "name": "python3"
  },
  "language_info": {
   "codemirror_mode": {
    "name": "ipython",
    "version": 3
   },
   "file_extension": ".py",
   "mimetype": "text/x-python",
   "name": "python",
   "nbconvert_exporter": "python",
   "pygments_lexer": "ipython3",
   "version": "3.11.5"
  }
 },
 "nbformat": 4,
 "nbformat_minor": 1
}
