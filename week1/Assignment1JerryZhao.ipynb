{
  "cells": [
    {
      "cell_type": "markdown",
      "metadata": {
        "id": "PrX51K540Zft"
      },
      "source": [
        "# Assignment 1 Jerry Zhao jz7783"
      ]
    },
    {
      "cell_type": "markdown",
      "metadata": {
        "id": "rRr3rbrxzC0L"
      },
      "source": [
        "## 1. Write a program that takes a word as an input and print the number of vowels in the word."
      ]
    },
    {
      "cell_type": "code",
      "execution_count": 1,
      "metadata": {
        "colab": {
          "base_uri": "https://localhost:8080/"
        },
        "id": "bvLPI_AczO2J",
        "outputId": "b04b384a-4643-4075-e105-1a73a37aae02"
      },
      "outputs": [
        {
          "name": "stdout",
          "output_type": "stream",
          "text": [
            "Enter your word: apple\n",
            "Number of vowels: 2\n"
          ]
        }
      ],
      "source": [
        "word = input(\"Enter your word: \")\n",
        "vowels = \"aeiouAEIOU\"\n",
        "count = 0\n",
        "for ch in word:\n",
        "    if ch in vowels:\n",
        "        count += 1\n",
        "print(\"Number of vowels:\", count)"
      ]
    },
    {
      "cell_type": "markdown",
      "metadata": {
        "id": "3ztD77n1zoo4"
      },
      "source": [
        "## 2. terate through the following list of animals and print each one in all caps.\n",
        "\n",
        "```\n",
        "animals=['tiger', 'elephant', 'monkey', 'zebra', 'panther']\n",
        "```\n",
        "\n"
      ]
    },
    {
      "cell_type": "code",
      "execution_count": 5,
      "metadata": {
        "colab": {
          "base_uri": "https://localhost:8080/"
        },
        "id": "2FWjGCMa075U",
        "outputId": "69e6cdae-84a2-4ec1-8912-3d844e7e7b0b"
      },
      "outputs": [
        {
          "name": "stdout",
          "output_type": "stream",
          "text": [
            "TIGER\n",
            "ELEPHANT\n",
            "MONKEY\n",
            "ZEBRA\n",
            "PANTHER\n"
          ]
        }
      ],
      "source": [
        "animals=['tiger', 'elephant', 'monkey', 'zebra', 'panther']\n",
        "for animal in animals:\n",
        "  print(animal.upper())"
      ]
    },
    {
      "cell_type": "markdown",
      "metadata": {
        "id": "gQltCuD11XF1"
      },
      "source": [
        "## 3. Write a program that iterates from 1 to 20, printing each number and whether it's odd or even."
      ]
    },
    {
      "cell_type": "code",
      "execution_count": 7,
      "metadata": {
        "colab": {
          "base_uri": "https://localhost:8080/"
        },
        "id": "KMyWBbO02BGx",
        "outputId": "c19d3545-fa5d-4ac1-a011-27e680cd48bf"
      },
      "outputs": [
        {
          "name": "stdout",
          "output_type": "stream",
          "text": [
            "1 is odd\n",
            "2 is even\n",
            "3 is odd\n",
            "4 is even\n",
            "5 is odd\n",
            "6 is even\n",
            "7 is odd\n",
            "8 is even\n",
            "9 is odd\n",
            "10 is even\n",
            "11 is odd\n",
            "12 is even\n",
            "13 is odd\n",
            "14 is even\n",
            "15 is odd\n",
            "16 is even\n",
            "17 is odd\n",
            "18 is even\n",
            "19 is odd\n",
            "20 is even\n"
          ]
        }
      ],
      "source": [
        "for i in range(1, 21):\n",
        "    if i % 2 == 0:\n",
        "        print(i, \"is even\")\n",
        "    else:\n",
        "        print(i, \"is odd\")"
      ]
    },
    {
      "cell_type": "markdown",
      "metadata": {
        "id": "XPa4U5-y2V_I"
      },
      "source": [
        "## 4. Write a program to check if a string is a palindrome or not."
      ]
    },
    {
      "cell_type": "code",
      "execution_count": 19,
      "metadata": {
        "colab": {
          "base_uri": "https://localhost:8080/"
        },
        "id": "HcpIptvO2uNx",
        "outputId": "a618aa65-365e-49ff-ce59-377287b15827"
      },
      "outputs": [
        {
          "name": "stdout",
          "output_type": "stream",
          "text": [
            "Enter your string:abcdcba\n",
            "The string is a palindrome\n"
          ]
        }
      ],
      "source": [
        "string = input(\"Enter your string:\")\n",
        "if string == string[::-1]:\n",
        "  print(\"The string is a palindrome\")\n",
        "else:\n",
        "  print(\"The string is not a palindrome\")"
      ]
    },
    {
      "cell_type": "markdown",
      "metadata": {
        "id": "6U9WESoA4NVU"
      },
      "source": [
        "## 5.Write a function `sum_of_integers(a, b)` that takes two integers as input from the user and returns their sum."
      ]
    },
    {
      "cell_type": "code",
      "execution_count": 20,
      "metadata": {
        "colab": {
          "base_uri": "https://localhost:8080/"
        },
        "id": "8W2L_gU73hhk",
        "outputId": "ae6363f4-7ba5-4d32-eb03-6e4e36a009ab"
      },
      "outputs": [
        {
          "name": "stdout",
          "output_type": "stream",
          "text": [
            "Enter your first integer:1\n",
            "Enter your second integer:4\n",
            "The sum is: 5\n"
          ]
        }
      ],
      "source": [
        "a = int(input(\"Enter your first integer:\"))\n",
        "b = int(input(\"Enter your second integer:\"))\n",
        "def sum_of_integers(a, b):\n",
        "  return a + b\n",
        "print(\"The sum is:\", sum_of_integers(a, b))"
      ]
    }
  ],
  "metadata": {
    "colab": {
      "provenance": []
    },
    "kernelspec": {
      "display_name": "Python 3",
      "name": "python3"
    },
    "language_info": {
      "name": "python"
    }
  },
  "nbformat": 4,
  "nbformat_minor": 0
}
